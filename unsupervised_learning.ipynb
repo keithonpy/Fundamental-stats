{
 "cells": [
  {
   "cell_type": "markdown",
   "id": "fadb8115",
   "metadata": {},
   "source": [
    "# Unsupervised learning"
   ]
  },
  {
   "cell_type": "markdown",
   "id": "26906aa7",
   "metadata": {},
   "source": [
    "## 1. Data Generation model\n",
    "\n",
    "**Input:** \n",
    "\n",
    "$X^{(1)}... X^{(n)} \\in \\mathbb{R}^{d}$ \n",
    "\n",
    "**Data generation model:** *K* mixture components:\n",
    "$$\n",
    "p_{1}...p_{K}: \\sum_{j = 1}^{K} p_{j} = 1\n",
    "$$\n",
    "\n",
    "j ~ multinomial($p_{1}...p_{k}$)\n",
    "$$\n",
    "\\mathbb{X} \\text{~} P(x| \\mu^{(j)}, \\sigma_{j}^{2})\n",
    "$$\n",
    "where $\\mu^{(j)} \\in \\mathbb{R}^{d}$ and $\\sigma_{j}^{2} = |\\sigma_{j}^{2}| \\mathbb{I}_{d}$ \n",
    "\n",
    "**Output:**  \n",
    "\n",
    "Estimate $\\theta = \\{p_{1}...p_{K},\\mu^{(1)...\\mu^{(K)}}, \\sigma_{1}^{2}...\\sigma_{K}^{2}\\}$"
   ]
  },
  {
   "cell_type": "markdown",
   "id": "f814f2a7",
   "metadata": {},
   "source": [
    "## 2. EM algorithm\n",
    "\n",
    "1. Randomly initialise $\\hat{\\theta}$. Compute likelihood $L_{old} = \\prod_{i = 1}^{n} p(x^{(i)}|\\theta)$\n",
    "2. E-step: update p"
   ]
  },
  {
   "cell_type": "code",
   "execution_count": null,
   "id": "b711f0d9",
   "metadata": {},
   "outputs": [],
   "source": []
  }
 ],
 "metadata": {
  "kernelspec": {
   "display_name": "Python 3 (ipykernel)",
   "language": "python",
   "name": "python3"
  },
  "language_info": {
   "codemirror_mode": {
    "name": "ipython",
    "version": 3
   },
   "file_extension": ".py",
   "mimetype": "text/x-python",
   "name": "python",
   "nbconvert_exporter": "python",
   "pygments_lexer": "ipython3",
   "version": "3.10.13"
  }
 },
 "nbformat": 4,
 "nbformat_minor": 5
}
