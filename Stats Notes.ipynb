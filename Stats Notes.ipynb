{
 "cells": [
  {
   "cell_type": "markdown",
   "id": "36fc6265",
   "metadata": {},
   "source": [
    "## Probability and Law"
   ]
  },
  {
   "cell_type": "markdown",
   "id": "08fd5882",
   "metadata": {},
   "source": [
    "### Law of Large number"
   ]
  },
  {
   "cell_type": "markdown",
   "id": "5fc7b8e3",
   "metadata": {},
   "source": [
    "1. Weak Law\n",
    "$$\\ \\bar{X_{n}}\\overset{P}{\\underset{n \\rightarrow \\infty}{\\rightarrow}}\\ \\mu$$\n",
    "$$\\lim_{n\\rightarrow \\infty}\\Pr\\left( \\left| \\overline{X_{n}} - \\mu \\right| < \\epsilon \\right)\\  = \\ 1$$"
   ]
  },
  {
   "cell_type": "markdown",
   "id": "4d3683ca",
   "metadata": {},
   "source": [
    "2.  Strong law\n",
    "\n",
    "$$\\ \\overline{X_{n}}\\overset{a.s.}{\\underset{n \\rightarrow \\infty}{\\rightarrow}}\\ \\mu$$\n",
    "\n",
    "$$\\Pr\\left( \\lim_{n \\rightarrow \\infty}\\overline{X_{n}}\\  = \\mu\\  \\right)\\  = \\ 1$$"
   ]
  },
  {
   "cell_type": "markdown",
   "id": "97eb9487",
   "metadata": {},
   "source": [
    "Difference between strong and weak law: The weak law states that for a specified large $n$, the average $X$ is likely to be near $\\mu$"
   ]
  },
  {
   "cell_type": "markdown",
   "id": "a67c3e72",
   "metadata": {},
   "source": [
    "### Central Limit Theorem"
   ]
  },
  {
   "cell_type": "markdown",
   "id": "57228dfd",
   "metadata": {},
   "source": [
    "$$\\sqrt{n}\\frac{\\overline{X_{n}} - \\mu}{\\sigma}\\overset{(d)}{\\underset{n \\rightarrow \\infty}{\\rightarrow}}N(0,1)$$"
   ]
  },
  {
   "cell_type": "markdown",
   "id": "a8604ec7",
   "metadata": {},
   "source": [
    "### Hoeffding’s inequality (useful when $n$ is not large enough)"
   ]
  },
  {
   "cell_type": "markdown",
   "id": "554b01c3",
   "metadata": {},
   "source": [
    "$X_{1},… , X_{n}$ are i.i.d. r.v. such that $\\mu = E\\lbrack X\\rbrack$ and $X \\in \\lbrack a,b\\rbrack$ a.s. Then, \n",
    "\n",
    "$$P\\left( \\left| \\overline{X_{n}} - \\mu \\right| \\geq \\ \\epsilon \\right) \\leq 2e^{- \\frac{2n\\epsilon^{2}}{(b - a)^{2}}}$$"
   ]
  },
  {
   "cell_type": "markdown",
   "id": "a6a03592",
   "metadata": {},
   "source": [
    "### Type of Convergence"
   ]
  },
  {
   "cell_type": "markdown",
   "id": "0f5fcbbc",
   "metadata": {},
   "source": [
    "1. Almost surely convergence\n",
    "\n",
    "$$P\\left( \\omega:X_{n}(\\omega) \\overset{a.s.}{\\underset{n \\rightarrow \\infty}{\\rightarrow}} X(\\omega) \\right) = 1$$\n",
    "\n",
    "2. Convergence in probability\n",
    "\n",
    "$$P\\left( \\left| X_{n} - X \\right| \\geq \\epsilon \\right)\\overset{\\mathbb{P}}{\\underset{n \\rightarrow \\infty}{\\rightarrow}}\\ 0$$\n",
    "\n",
    "3. Convergence in distribution\n",
    "\n",
    "$$E\\left\\lbrack f\\left( X_{n} \\right) \\right\\rbrack \\overset{(d)}{\\underset{n \\rightarrow \\infty}{\\rightarrow}}E\\left\\lbrack f(X) \\right\\rbrack$$\n"
   ]
  },
  {
   "cell_type": "markdown",
   "id": "8e1a70ed",
   "metadata": {},
   "source": [
    "Propeties:\n",
    "1. if $(X_{n})_{n \\leq 1}$ converges a.s.then it also converges in probability and the two limits are equal a.s.\n",
    "1. if $(X_{n})_{n \\leq 1}$ converges in probability, then it also converges in distribution\n",
    "1. $X_{n} \\overset{(d)}{\\underset{n \\rightarrow \\infty}{\\rightarrow}} X  \\Rightarrow \\mathbb{P}(a \\leq X_{n} \\leq b) \\underset{n \\rightarrow \\infty}{\\rightarrow} \\mathbb{P}(a \\leq X \\leq b)$ but the inverse is not true"
   ]
  },
  {
   "cell_type": "markdown",
   "id": "53791c72",
   "metadata": {},
   "source": [
    "Addition, Multiplication and Division between r.v. only for 1 and 2 (a.s. and $\\mathbb{P}$ convergence), but Slutsky's lemma suggests that some partial results exist for convergence in distribution."
   ]
  },
  {
   "cell_type": "markdown",
   "id": "12cc5c7c",
   "metadata": {},
   "source": [
    "### Slutsky's Theorem"
   ]
  },
  {
   "cell_type": "markdown",
   "id": "0f8a2b46",
   "metadata": {},
   "source": [
    "Let $\\left( X_{n} \\right),\\left( Y_{n} \\right)$ two sequences of r.v.,\n",
    "\n",
    "$$X_{n}\\overset{(d)}{\\underset{n \\rightarrow \\infty}{\\rightarrow}}T \\text{ and } Y_{n}\\overset{P}{\\underset{n \\rightarrow \\infty}{\\rightarrow}}\\ c$$\n",
    "where $T$ is a r.v. and $c$ is a real number, Then,\n",
    "1. $X_{n} + Y_{n} \\overset{(d)}{\\underset{n \\rightarrow \\infty}{\\rightarrow}} T + c $\n",
    "1. $X_{n}Y_{n} \\overset{(d)}{\\underset{n \\rightarrow \\infty}{\\rightarrow}} Tc $\n",
    "1. if $c \\neq 0$, $\\frac{X_{n}}{Y_{n}} \\overset{(d)}{\\underset{n \\rightarrow \\infty}{\\rightarrow}} \\frac{T}{c}$ "
   ]
  },
  {
   "cell_type": "markdown",
   "id": "ec5e4bc3",
   "metadata": {},
   "source": [
    "### Continuous functions"
   ]
  },
  {
   "cell_type": "markdown",
   "id": "027f9137",
   "metadata": {},
   "source": [
    "if $f$ is a continuous function, then by continuous mapping theorem, \n",
    "$$X_{n}\\overset{\\mathbb{P}\\text{/ }a.s.\\text{/ }(d)}{\\rightarrow}X \\Rightarrow f\\left( X_{n} \\right)\\overset{P\\text{/ }a.s.\\text{/ }(d)}{\\rightarrow}f(X)$$"
   ]
  },
  {
   "cell_type": "code",
   "execution_count": null,
   "id": "4236be54",
   "metadata": {},
   "outputs": [],
   "source": []
  }
 ],
 "metadata": {
  "kernelspec": {
   "display_name": "Python 3 (ipykernel)",
   "language": "python",
   "name": "python3"
  },
  "language_info": {
   "codemirror_mode": {
    "name": "ipython",
    "version": 3
   },
   "file_extension": ".py",
   "mimetype": "text/x-python",
   "name": "python",
   "nbconvert_exporter": "python",
   "pygments_lexer": "ipython3",
   "version": "3.10.4"
  }
 },
 "nbformat": 4,
 "nbformat_minor": 5
}
