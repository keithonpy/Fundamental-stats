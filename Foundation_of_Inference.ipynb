{
 "cells": [
  {
   "cell_type": "markdown",
   "id": "32ad161c",
   "metadata": {},
   "source": [
    "# Foundation of inference"
   ]
  },
  {
   "cell_type": "markdown",
   "id": "9504964c",
   "metadata": {},
   "source": [
    "### Defintion of Statistical model and parameter\n",
    "A definition of statistical model is written as below\n",
    "$$\\left( S,\\left( P_{\\theta} \\right)_{\\theta \\in \\Theta} \\right)$$ \n",
    "S is the sample space which contains $X_{1}, ..., X_{n}$ i.i.d. random variables <br>\n",
    "$P_{\\theta}$ id the family of probability measure on E <br>\n",
    "$\\Theta$ is the parameter set <br>\n",
    "\n",
    "The statistical model is usually well specified and the particular $\\theta$ is called the true parameter\n",
    "<font color='red'>The aim of statistical experiment is to find $\\theta$ or check its properties.</font> <br>\n",
    "\n",
    "The model where $\\Theta \\subseteq R^{d}$ for $d \\geq 1$ is known as parametric\n",
    "\n",
    "The model where$\\Theta$ are infinite dimensional is called nonparametric.\n",
    "\n",
    "The model where $\\Theta = \\Theta_{1} \\times \\Theta_{2}$ is semiparametric if\n",
    "$\\Theta_{1}$is finite dimensional and $\\Theta_{2}$ is nonparameteric.\n",
    "\n",
    "Eg. Multivariate normal distribution (parametric statistical model)\n",
    "$X_{1},\\ldots X_{n}\\sim N_{d}\\left( \\mu,I_{d} \\right)$\n",
    "\n",
    "$$\\left( R^{d},\\left( N_{d}\\left( \\mu,I_{d} \\right)_{\\mu \\in R^{d}} \\right) \\right)$$\n"
   ]
  },
  {
   "cell_type": "markdown",
   "id": "53129203",
   "metadata": {},
   "source": [
    "### Identifiability\n",
    "The parameter $\\theta$ is called identifiable iff the map $\\theta \\in \\Theta \\mapsto \\mathbb{P}_{\\theta}$ is injective, i.e.\n",
    "\n",
    "$$P_{\\theta_{\\mathbb{1}}} = P_{\\theta_{\\mathbb{2}}} \\Rightarrow \\theta_{1} = \\theta_{2}$$\n",
    "\n",
    "A model is identifiable if it is theoretically possible to learn the true values of this model's underlying parameters after obtaining an infinite number of observations from it."
   ]
  },
  {
   "cell_type": "markdown",
   "id": "528832cd",
   "metadata": {},
   "source": [
    "### Parameter estimation\n",
    "An estimator of $\\theta$ is any expression of statistic (such as $\\bar{X}_{n}$ or $\\underset{i}{\\max}X_{i}$) that does not depend on $\\theta$ <br>\n",
    "\n",
    "An estimator $\\hat{\\theta_{n}}$of $\\theta$ is weakly(strongly) consistent if\n",
    "\n",
    "$$\\hat{\\theta_{n}} \\overset{P\\text{/}a.s.}{\\underset{n \\rightarrow \\infty}{\\rightarrow}} \\theta$$\n",
    "\n",
    "An estimator $hat{\\theta_{n}}$of $\\theta$ is asymptotically normal if \n",
    "\n",
    "$$\\sqrt{n}\\left( \\hat{\\theta_{n}} - \\theta \\right) \\rightarrow^{(d)}N\\left( 0,\\sigma^{2} \\right)$$\n",
    "\n",
    "$\\sigma^{2}$ is called asymptotic variance of $\\hat{\\theta_{n}}$"
   ]
  },
  {
   "cell_type": "markdown",
   "id": "05c1b5ac",
   "metadata": {},
   "source": [
    "### Bias of estimator\n",
    "Bias of an estimator $\\hat{\\theta}_{n}$ of $\\theta$\n",
    "$$\\text{bias}(\\hat{\\theta}_{n}) = E\\left\\lbrack \\widehat{\\theta_{n}} \\right\\rbrack - \\theta$$"
   ]
  },
  {
   "cell_type": "markdown",
   "id": "04ec12c9",
   "metadata": {},
   "source": [
    "### Variance of estimator\n",
    "$$Var(X) = E\\left\\lbrack \\left( X^{2} - E\\lbrack X\\rbrack \\right)^{2} \\right\\rbrack$$"
   ]
  },
  {
   "cell_type": "markdown",
   "id": "b74b0fe2",
   "metadata": {},
   "source": [
    "### Quadratic Risk\n",
    "quadratic risk = variance + $\\text{bias}^{2}$\n",
    "$$E\\left\\lbrack \\left| \\widehat{\\theta_{n}} - \\theta \\right|^{2} \\right\\rbrack = E\\left\\lbrack \\left( \\widehat{\\theta_{n}} - E\\left\\lbrack \\widehat{\\theta_{n}} \\right\\rbrack + E\\left\\lbrack \\widehat{\\theta_{n}} \\right\\rbrack - \\theta \\right)^{2} \\right\\rbrack$$"
   ]
  },
  {
   "cell_type": "markdown",
   "id": "d6f07976",
   "metadata": {},
   "source": [
    "### Confidence Interval"
   ]
  },
  {
   "cell_type": "markdown",
   "id": "b09a9d81",
   "metadata": {},
   "source": [
    "$$\\mathbb{P}[I \\ni \\theta] \\geq 1- \\alpha$$\n",
    "$1 - \\ \\alpha$ is the asymptotic level for $\\theta$. $\\theta$ has a true\n",
    "and fixed value and it is either outside or within the interval.\n",
    "$1 - \\ \\alpha$ is the probability of the interval. The random interval\n",
    "$I$ do not depend on $\\theta$. To remove $\\theta$ from confidence interval, there are 3 methods:\n",
    "\n"
   ]
  },
  {
   "cell_type": "markdown",
   "id": "f1aca7d8",
   "metadata": {},
   "source": [
    "#### 1. Conservative Bound"
   ]
  },
  {
   "cell_type": "markdown",
   "id": "a060b4ce",
   "metadata": {},
   "source": [
    "eg. In a Bernoulli experiment with variable $\\theta$, $\\theta(1-\\theta) < \\frac{1}{4}$, the asymptotic confidence interval is \n",
    "$$I_{conserv} = \\left[\\bar{X_{n}}- \\frac{q_{\\alpha /2}}{2\\sqrt{n}}, \\bar{X_{n}}+ \\frac{q_{\\alpha /2}}{2\\sqrt{n}}\\right]$$"
   ]
  },
  {
   "cell_type": "markdown",
   "id": "31485af8",
   "metadata": {},
   "source": [
    "#### 2. Solving quadratic equation"
   ]
  },
  {
   "cell_type": "markdown",
   "id": "b29bc9bf",
   "metadata": {},
   "source": [
    "eg. for Bernoulli experiment, \n",
    "$$\n",
    "\\bar{X_{n}}- \\frac{q_{\\alpha /2}\\sqrt{\\theta(1-\\theta)}}{\\sqrt{n}} \\leq \\theta \\leq \\bar{X_{n}}+ \\frac{q_{\\alpha /2}\\sqrt{\\theta(1-\\theta)}}{\\sqrt{n}}\n",
    "$$\n",
    "The asymptotic confidence interval could be found by solving the inequality."
   ]
  },
  {
   "cell_type": "markdown",
   "id": "3d916932",
   "metadata": {},
   "source": [
    "#### 3. Plug-in"
   ]
  },
  {
   "cell_type": "code",
   "execution_count": null,
   "id": "5fae00f1",
   "metadata": {},
   "outputs": [],
   "source": []
  }
 ],
 "metadata": {
  "kernelspec": {
   "display_name": "Python 3 (ipykernel)",
   "language": "python",
   "name": "python3"
  },
  "language_info": {
   "codemirror_mode": {
    "name": "ipython",
    "version": 3
   },
   "file_extension": ".py",
   "mimetype": "text/x-python",
   "name": "python",
   "nbconvert_exporter": "python",
   "pygments_lexer": "ipython3",
   "version": "3.10.4"
  }
 },
 "nbformat": 4,
 "nbformat_minor": 5
}
